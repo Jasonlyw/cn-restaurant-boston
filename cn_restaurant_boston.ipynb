{
    "cells": [
        {
            "cell_type": "code",
            "execution_count": 1,
            "metadata": {},
            "outputs": [],
            "source": "# import libraries\n\nimport pandas as pd\nimport numpy as np\n\n# For web scraping\nfrom bs4 import BeautifulSoup as bs\nimport requests\n\n# To get geo-location data\nfrom geopy.geocoders import Nominatim"
        },
        {
            "cell_type": "code",
            "execution_count": 2,
            "metadata": {},
            "outputs": [],
            "source": "# Get list of neighborhoods in Boston\n\nsource = requests.get(\"https://en.wikipedia.org/wiki/Neighborhoods_in_Boston\").text\nsoup = bs(source, 'lxml')"
        },
        {
            "cell_type": "code",
            "execution_count": 3,
            "metadata": {},
            "outputs": [
                {
                    "name": "stdout",
                    "output_type": "stream",
                    "text": "<div class=\"div-col columns column-width\" style=\"-moz-column-width: 30em; -webkit-column-width: 30em; column-width: 30em;\">\n <ul>\n  <li>\n   <a href=\"/wiki/Allston\" title=\"Allston\">\n    Allston\n   </a>\n  </li>\n  <li>\n   <a href=\"/wiki/Back_Bay,_Boston\" title=\"Back Bay, Boston\">\n    Back Bay\n   </a>\n  </li>\n  <li>\n   <a class=\"mw-redirect\" href=\"/wiki/Bay_Village,_Boston,_Massachusetts\" title=\"Bay Village, Boston, Massachusetts\">\n    Bay Village\n   </a>\n  </li>\n  <li>\n   <a href=\"/wiki/Beacon_Hill,_Boston\" title=\"Beacon Hill, Boston\">\n    Beacon Hill\n   </a>\n  </li>\n  <li>\n   <a class=\"mw-redirect\" href=\"/wiki/Brighton,_Massachusetts\" title=\"Brighton, Massachusetts\">\n    Brighton\n   </a>\n  </li>\n  <li>\n   <a class=\"mw-redirect\" href=\"/wiki/Charlestown,_Massachusetts\" title=\"Charlestown, Massachusetts\">\n    Charlestown\n   </a>\n  </li>\n  <li>\n   <a href=\"/wiki/Chinatown,_Boston\" title=\"Chinatown, Boston\">\n    Chinatown\n   </a>\n   /\n   <a class=\"mw-redirect\" href=\"/wiki/Leather_District,_Boston\" title=\"Leather District, Boston\">\n    Leather District\n   </a>\n  </li>\n  <li>\n   <a href=\"/wiki/Dorchester,_Boston\" title=\"Dorchester, Boston\">\n    Dorchester\n   </a>\n   (divided for planning purposes into Mid Dorchester and Dorchester)\n  </li>\n  <li>\n   <a href=\"/wiki/Downtown_Boston\" title=\"Downtown Boston\">\n    Downtown\n   </a>\n  </li>\n  <li>\n   <a href=\"/wiki/East_Boston\" title=\"East Boston\">\n    East Boston\n   </a>\n  </li>\n  <li>\n   <a class=\"mw-redirect\" href=\"/wiki/Fenway-Kenmore\" title=\"Fenway-Kenmore\">\n    Fenway Kenmore\n   </a>\n   (includes\n   <a class=\"mw-redirect\" href=\"/wiki/Longwood,_Boston\" title=\"Longwood, Boston\">\n    Longwood\n   </a>\n   )\n  </li>\n  <li>\n   <a href=\"/wiki/Hyde_Park,_Boston\" title=\"Hyde Park, Boston\">\n    Hyde Park\n   </a>\n  </li>\n  <li>\n   <a class=\"mw-redirect\" href=\"/wiki/Jamaica_Plain,_Boston\" title=\"Jamaica Plain, Boston\">\n    Jamaica Plain\n   </a>\n  </li>\n  <li>\n   <a href=\"/wiki/Mattapan\" title=\"Mattapan\">\n    Mattapan\n   </a>\n  </li>\n  <li>\n   <a href=\"/wiki/Mission_Hill,_Boston\" title=\"Mission Hill, Boston\">\n    Mission Hill\n   </a>\n  </li>\n  <li>\n   <a href=\"/wiki/North_End,_Boston\" title=\"North End, Boston\">\n    North End\n   </a>\n  </li>\n  <li>\n   <a href=\"/wiki/Roslindale\" title=\"Roslindale\">\n    Roslindale\n   </a>\n  </li>\n  <li>\n   <a href=\"/wiki/Roxbury,_Boston\" title=\"Roxbury, Boston\">\n    Roxbury\n   </a>\n  </li>\n  <li>\n   <a href=\"/wiki/South_Boston\" title=\"South Boston\">\n    South Boston\n   </a>\n  </li>\n  <li>\n   <a href=\"/wiki/South_End,_Boston\" title=\"South End, Boston\">\n    South End\n   </a>\n  </li>\n  <li>\n   <a href=\"/wiki/West_End,_Boston\" title=\"West End, Boston\">\n    West End\n   </a>\n  </li>\n  <li>\n   <a class=\"mw-redirect\" href=\"/wiki/West_Roxbury,_Boston\" title=\"West Roxbury, Boston\">\n    West Roxbury\n   </a>\n  </li>\n </ul>\n</div>\n\n"
                }
            ],
            "source": "list = soup.find('div', class_='columns')\nprint(list.prettify())"
        },
        {
            "cell_type": "code",
            "execution_count": 4,
            "metadata": {},
            "outputs": [],
            "source": "# Store the list in an array\n\nneigh = []\n\nfor n in list.find_all('li'):\n    neigh.append(n.text)"
        },
        {
            "cell_type": "code",
            "execution_count": 5,
            "metadata": {},
            "outputs": [],
            "source": "# Convert the array to a pandas dataframe\n\ndf = pd.DataFrame({'Neighborhoods': neigh})"
        },
        {
            "cell_type": "code",
            "execution_count": 6,
            "metadata": {},
            "outputs": [],
            "source": "# Clean up the dataframe\n\ndf.replace(regex={r'^Dorchester.*$': 'Dorchester', r'^Fenway.*$': 'Fenway Kenmore', r'^Chinatown.*$': 'Chinatown'}, inplace=True)"
        },
        {
            "cell_type": "code",
            "execution_count": 7,
            "metadata": {},
            "outputs": [
                {
                    "data": {
                        "text/plain": "(22, 1)"
                    },
                    "execution_count": 7,
                    "metadata": {},
                    "output_type": "execute_result"
                }
            ],
            "source": "df.shape"
        },
        {
            "cell_type": "code",
            "execution_count": 8,
            "metadata": {},
            "outputs": [],
            "source": "# Get latitude and longitude data for each neighborhood\n\ngeolocator = Nominatim(user_agent='boston_agent')\n\ndef get_geo_location(neighborhood):\n    g = None\n    while (g is None):\n        location = geolocator.geocode('{}, Boston, MA'.format(neighborhood))\n        g = [location.latitude, location.longitude]\n    return g"
        },
        {
            "cell_type": "code",
            "execution_count": 9,
            "metadata": {},
            "outputs": [],
            "source": "coords = [ get_geo_location(nbhd) for nbhd in df[\"Neighborhoods\"].tolist() ]"
        },
        {
            "cell_type": "code",
            "execution_count": 10,
            "metadata": {},
            "outputs": [
                {
                    "data": {
                        "text/plain": "[[42.3554344, -71.1321271],\n [42.3507067, -71.0797297],\n [42.35001105, -71.0669477958571],\n [42.3587085, -71.067829],\n [42.3500971, -71.1564423],\n [42.3778749, -71.0619957],\n [42.3513291, -71.0626228],\n [42.2973205, -71.0744952],\n [52.971148799999995, -0.059809371175602276],\n [42.3750973, -71.0392173],\n [42.34422445, -71.09444515776886],\n [42.2556543, -71.1244963],\n [42.3098201, -71.1203299],\n [42.2675657, -71.0924273],\n [42.33255965, -71.10360773640765],\n [42.3650974, -71.0544954],\n [42.2912093, -71.1244966],\n [42.3248426, -71.0950158],\n [42.3334312, -71.0494949],\n [42.34131, -71.0772298],\n [42.3639186, -71.0638993],\n [42.2792649, -71.1494972]]"
                    },
                    "execution_count": 10,
                    "metadata": {},
                    "output_type": "execute_result"
                }
            ],
            "source": "coords"
        },
        {
            "cell_type": "code",
            "execution_count": 11,
            "metadata": {},
            "outputs": [],
            "source": "df_coords = pd.DataFrame(coords, columns=[\"Latitude\", \"Longitude\"])"
        },
        {
            "cell_type": "code",
            "execution_count": 12,
            "metadata": {},
            "outputs": [
                {
                    "data": {
                        "text/html": "<div>\n<style scoped>\n    .dataframe tbody tr th:only-of-type {\n        vertical-align: middle;\n    }\n\n    .dataframe tbody tr th {\n        vertical-align: top;\n    }\n\n    .dataframe thead th {\n        text-align: right;\n    }\n</style>\n<table border=\"1\" class=\"dataframe\">\n  <thead>\n    <tr style=\"text-align: right;\">\n      <th></th>\n      <th>Neighborhoods</th>\n      <th>Latitude</th>\n      <th>Longitude</th>\n    </tr>\n  </thead>\n  <tbody>\n    <tr>\n      <th>0</th>\n      <td>Allston</td>\n      <td>42.355434</td>\n      <td>-71.132127</td>\n    </tr>\n    <tr>\n      <th>1</th>\n      <td>Back Bay</td>\n      <td>42.350707</td>\n      <td>-71.079730</td>\n    </tr>\n    <tr>\n      <th>2</th>\n      <td>Bay Village</td>\n      <td>42.350011</td>\n      <td>-71.066948</td>\n    </tr>\n    <tr>\n      <th>3</th>\n      <td>Beacon Hill</td>\n      <td>42.358708</td>\n      <td>-71.067829</td>\n    </tr>\n    <tr>\n      <th>4</th>\n      <td>Brighton</td>\n      <td>42.350097</td>\n      <td>-71.156442</td>\n    </tr>\n    <tr>\n      <th>5</th>\n      <td>Charlestown</td>\n      <td>42.377875</td>\n      <td>-71.061996</td>\n    </tr>\n    <tr>\n      <th>6</th>\n      <td>Chinatown</td>\n      <td>42.351329</td>\n      <td>-71.062623</td>\n    </tr>\n    <tr>\n      <th>7</th>\n      <td>Dorchester</td>\n      <td>42.297320</td>\n      <td>-71.074495</td>\n    </tr>\n    <tr>\n      <th>8</th>\n      <td>Downtown</td>\n      <td>52.971149</td>\n      <td>-0.059809</td>\n    </tr>\n    <tr>\n      <th>9</th>\n      <td>East Boston</td>\n      <td>42.375097</td>\n      <td>-71.039217</td>\n    </tr>\n    <tr>\n      <th>10</th>\n      <td>Fenway Kenmore</td>\n      <td>42.344224</td>\n      <td>-71.094445</td>\n    </tr>\n    <tr>\n      <th>11</th>\n      <td>Hyde Park</td>\n      <td>42.255654</td>\n      <td>-71.124496</td>\n    </tr>\n    <tr>\n      <th>12</th>\n      <td>Jamaica Plain</td>\n      <td>42.309820</td>\n      <td>-71.120330</td>\n    </tr>\n    <tr>\n      <th>13</th>\n      <td>Mattapan</td>\n      <td>42.267566</td>\n      <td>-71.092427</td>\n    </tr>\n    <tr>\n      <th>14</th>\n      <td>Mission Hill</td>\n      <td>42.332560</td>\n      <td>-71.103608</td>\n    </tr>\n    <tr>\n      <th>15</th>\n      <td>North End</td>\n      <td>42.365097</td>\n      <td>-71.054495</td>\n    </tr>\n    <tr>\n      <th>16</th>\n      <td>Roslindale</td>\n      <td>42.291209</td>\n      <td>-71.124497</td>\n    </tr>\n    <tr>\n      <th>17</th>\n      <td>Roxbury</td>\n      <td>42.324843</td>\n      <td>-71.095016</td>\n    </tr>\n    <tr>\n      <th>18</th>\n      <td>South Boston</td>\n      <td>42.333431</td>\n      <td>-71.049495</td>\n    </tr>\n    <tr>\n      <th>19</th>\n      <td>South End</td>\n      <td>42.341310</td>\n      <td>-71.077230</td>\n    </tr>\n    <tr>\n      <th>20</th>\n      <td>West End</td>\n      <td>42.363919</td>\n      <td>-71.063899</td>\n    </tr>\n    <tr>\n      <th>21</th>\n      <td>West Roxbury</td>\n      <td>42.279265</td>\n      <td>-71.149497</td>\n    </tr>\n  </tbody>\n</table>\n</div>",
                        "text/plain": "     Neighborhoods   Latitude  Longitude\n0          Allston  42.355434 -71.132127\n1         Back Bay  42.350707 -71.079730\n2      Bay Village  42.350011 -71.066948\n3      Beacon Hill  42.358708 -71.067829\n4         Brighton  42.350097 -71.156442\n5      Charlestown  42.377875 -71.061996\n6        Chinatown  42.351329 -71.062623\n7       Dorchester  42.297320 -71.074495\n8         Downtown  52.971149  -0.059809\n9      East Boston  42.375097 -71.039217\n10  Fenway Kenmore  42.344224 -71.094445\n11       Hyde Park  42.255654 -71.124496\n12   Jamaica Plain  42.309820 -71.120330\n13        Mattapan  42.267566 -71.092427\n14    Mission Hill  42.332560 -71.103608\n15       North End  42.365097 -71.054495\n16      Roslindale  42.291209 -71.124497\n17         Roxbury  42.324843 -71.095016\n18    South Boston  42.333431 -71.049495\n19       South End  42.341310 -71.077230\n20        West End  42.363919 -71.063899\n21    West Roxbury  42.279265 -71.149497"
                    },
                    "execution_count": 12,
                    "metadata": {},
                    "output_type": "execute_result"
                }
            ],
            "source": "df[\"Latitude\"] = df_coords[\"Latitude\"]\ndf[\"Longitude\"] = df_coords[\"Longitude\"]\n\ndf"
        },
        {
            "cell_type": "code",
            "execution_count": null,
            "metadata": {},
            "outputs": [],
            "source": ""
        }
    ],
    "metadata": {
        "kernelspec": {
            "display_name": "Python 3.6",
            "language": "python",
            "name": "python3"
        },
        "language_info": {
            "codemirror_mode": {
                "name": "ipython",
                "version": 3
            },
            "file_extension": ".py",
            "mimetype": "text/x-python",
            "name": "python",
            "nbconvert_exporter": "python",
            "pygments_lexer": "ipython3",
            "version": "3.6.9"
        }
    },
    "nbformat": 4,
    "nbformat_minor": 1
}